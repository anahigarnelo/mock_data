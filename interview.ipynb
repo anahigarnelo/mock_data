{
  "nbformat": 4,
  "nbformat_minor": 0,
  "metadata": {
    "colab": {
      "provenance": [],
      "toc_visible": true,
      "authorship_tag": "ABX9TyP45W2VR6qftxJ5rTmEQoRv",
      "include_colab_link": true
    },
    "kernelspec": {
      "name": "python3",
      "display_name": "Python 3"
    },
    "language_info": {
      "name": "python"
    }
  },
  "cells": [
    {
      "cell_type": "markdown",
      "metadata": {
        "id": "view-in-github",
        "colab_type": "text"
      },
      "source": [
        "<a href=\"https://colab.research.google.com/github/anahigarnelo/mock_data/blob/main/interview.ipynb\" target=\"_parent\"><img src=\"https://colab.research.google.com/assets/colab-badge.svg\" alt=\"Open In Colab\"/></a>"
      ]
    },
    {
      "cell_type": "markdown",
      "source": [
        "1. Read CSV into DataFrame\n",
        "\n",
        "* [https://github.com/anahigarnelo/mock_data/blob/main/mock_medical_data.csv](https://github.com/anahigarnelo/mock_data/blob/main/mock_medical_data.csv)\n",
        "\n",
        "\n",
        "*italicized text*"
      ],
      "metadata": {
        "id": "3a5SMxZDB5WD"
      }
    },
    {
      "cell_type": "code",
      "source": [],
      "metadata": {
        "id": "PtMCPRgTDbAW"
      },
      "execution_count": null,
      "outputs": []
    },
    {
      "cell_type": "markdown",
      "source": [
        "2. Categorize each individual's BMI, blood pressure, and glucose levels to identify if they fall within the normal, under, or over the healthy range.\n",
        "\n",
        "*   Body Mass Index (BMI)\n",
        "  * Underweight: Less than 18.5\n",
        "  * Normal weight: 18.5 - 24.9\n",
        "  * Overweight: 25 – 29.9\n",
        "  * Obesity: 30 or higher\n",
        "*   Blood Pressure\n",
        "  * Normal: Less than 120/80 mmHg\n",
        "  * Elevated: Systolic between 120-129 and diastolic less than 80\n",
        "  * Hypertension Stage 1: Systolic between 130-139 or diastolic between 80-89\n",
        "  * Hypertension Stage 2: Systolic 140 or higher or diastolic 90 or higher\n",
        "  * Hypertensive Crisis: Systolic over 180 and/or diastolic over 120 (requires immediate medical attention)\n",
        "* Blood Glucose\n",
        "  * Normal: Less than 100 mg/dL (5.6 mmol/L)\n",
        "  * Prediabetes: 100 to 125 mg/dL (5.6 to 6.9 mmol/L)\n",
        "  * Diabetes: 126 mg/dL (7.0 mmol/L) or higher on two separate tests\n",
        "\n"
      ],
      "metadata": {
        "id": "EPDyvkukC2Rb"
      }
    },
    {
      "cell_type": "code",
      "source": [],
      "metadata": {
        "id": "JyNwZk6aFbe2"
      },
      "execution_count": null,
      "outputs": []
    },
    {
      "cell_type": "markdown",
      "source": [
        "3. Generate a JSON output that includes the categorized health metrics for each individual, ensuring that normal values are listed last for each metric.\n",
        "\n",
        "\n",
        "```\n",
        "# [\n",
        "    {\n",
        "        \"patient_id\": \"P076\",\n",
        "        \"name\": \"David Miller\",\n",
        "        \"age\": 26,\n",
        "        \"condition\": \"Asthma\",\n",
        "        \"treatment\": \"Lifestyle Changes\",\n",
        "        \"bmi\": 33.6,\n",
        "        \"blood_pressure\": \"150/66\",\n",
        "        \"glucose_level\": 182,\n",
        "        \"family_id\": \"F01\",\n",
        "        \"Health_Metrics\": {\n",
        "            \"BMI\": \"Obesity\",\n",
        "            \"Blood_Pressure\": \"Hypertension Stage 2\",\n",
        "            \"Glucose\": \"Diabetes\"\n",
        "        }\n",
        "    },\n",
        "    {\n",
        "        \"patient_id\": \"P025\",\n",
        "        \"name\": \"Jane Davis\",\n",
        "        \"age\": 44,\n",
        "        \"condition\": \"Hypertension\",\n",
        "        \"treatment\": \"Surgery\",\n",
        "        \"bmi\": 34.3,\n",
        "        \"blood_pressure\": \"101/61\",\n",
        "        \"glucose_level\": 110,\n",
        "        \"family_id\": \"F03\",\n",
        "        \"Health_Metrics\": {\n",
        "            \"BMI\": \"Obesity\",\n",
        "            \"Glucose\": \"Prediabetes\",\n",
        "            \"Blood_Pressure\": \"Normal\"\n",
        "        }\n",
        "    }\n",
        "  ]\n",
        "\n",
        "```\n",
        "\n",
        "\n",
        "\n"
      ],
      "metadata": {
        "id": "1VpBe5bFEZ0l"
      }
    },
    {
      "cell_type": "code",
      "source": [],
      "metadata": {
        "id": "ryrFEWLaHWdi"
      },
      "execution_count": null,
      "outputs": []
    },
    {
      "cell_type": "markdown",
      "source": [
        "4. Implement unit tests to verify the correctness of the output, ensuring that the health metrics are accurately categorized and formatted in the JSON output.\n",
        "\n"
      ],
      "metadata": {
        "id": "qB__By8SHjET"
      }
    },
    {
      "cell_type": "code",
      "source": [],
      "metadata": {
        "id": "rrqpwln1Il5J"
      },
      "execution_count": null,
      "outputs": []
    },
    {
      "cell_type": "markdown",
      "source": [
        "5. Aggregate the health metrics for each family based on family ID, and determine if any metrics (BMI, blood pressure, or glucose levels) are concerning by evaluating the commonality of out-of-normal-range values within the family.\n",
        "\n",
        "\n",
        "```\n",
        "# [\n",
        "    {\n",
        "        \"family_id\": \"F01\",\n",
        "        \"family_concerns\": {\n",
        "            \"BMI_concerning\": true,\n",
        "            \"Blood_Pressure_concerning\": true,\n",
        "            \"Glucose_concerning\": false\n",
        "        },\n",
        "        \"members\": [\n",
        "            {\n",
        "                \"patient_id\": \"P001\",\n",
        "                \"name\": \"Sarah Jones\",\n",
        "                \"age\": 48,\n",
        "                \"condition\": \"Depression\",\n",
        "                \"treatment\": \"Medication\",\n",
        "                \"bmi\": 33.6,\n",
        "                \"blood_pressure\": \"150/66\",\n",
        "                \"glucose_level\": 182,\n",
        "                \"family_id\": \"F01\",\n",
        "                \"Health_Metrics\": {\n",
        "                    \"BMI\": \"Obesity\",\n",
        "                    \"Blood_Pressure\": \"Hypertension Stage 2\",\n",
        "                    \"Glucose\": \"Diabetes\"\n",
        "                }\n",
        "            },\n",
        "            {\n",
        "                \"patient_id\": \"P002\",\n",
        "                \"name\": \"Emily Jones\",\n",
        "                \"age\": 22,\n",
        "                \"condition\": \"Hypertension\",\n",
        "                \"treatment\": \"Medication\",\n",
        "                \"bmi\": 23.1,\n",
        "                \"blood_pressure\": \"110/70\",\n",
        "                \"glucose_level\": 98,\n",
        "                \"family_id\": \"F01\",\n",
        "                \"Health_Metrics\": {\n",
        "                    \"BMI\": \"Normal weight\",\n",
        "                    \"Blood_Pressure\": \"Normal\",\n",
        "                    \"Glucose\": \"Normal\"\n",
        "                }\n",
        "            }\n",
        "        ]\n",
        "    }\n",
        "]\n",
        "\n",
        "```\n",
        "\n"
      ],
      "metadata": {
        "id": "5QHQ_qpaIkne"
      }
    },
    {
      "cell_type": "code",
      "source": [],
      "metadata": {
        "id": "OWuWr97vHt0x"
      },
      "execution_count": null,
      "outputs": []
    },
    {
      "cell_type": "markdown",
      "source": [
        "6. Discuss how we can improve performance"
      ],
      "metadata": {
        "id": "K5W-KAhtHufz"
      }
    }
  ]
}